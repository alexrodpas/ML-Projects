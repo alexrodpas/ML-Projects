{
 "cells": [
  {
   "cell_type": "markdown",
   "id": "ef3bd4cf-c353-482d-9fcb-7179efe5a54e",
   "metadata": {},
   "source": [
    "# Abstractive summarization with T5 Transformer model\n",
    "\n",
    "## Introduction\n",
    "\n",
    "### Automatic Summarization\n",
    "\n",
    "__Automatic summarization__ is one of the central problems in Natural Language Processing (NLP). Summarization consists on creating a shorter version of a document or an article that captures all the important information. It poses several challenges relating to language understanding (e.g. identifying important content) and generation (e.g. aggregating and rewording the identified content into a summary).\n",
    "Along with translation, it is another example of a task that can be formulated as a sequence-to-sequence task. \n",
    "\n",
    "Summarization can be: \n",
    "\n",
    "- _Extractive_: extract the most relevant information from a document.\n",
    "- _Abstractive_: generate new text that captures the most relevant information.\n",
    "\n",
    "In this project we will approach the problem of single-document abstractive summarization. Following prior work, we aim to tackle this problem using a sequence-to-sequence model. \n",
    "\n",
    "### The T5 model\n",
    "\n",
    "[Text-to-Text Transfer Transformer (T5)](https://arxiv.org/abs/1910.10683) is a [Transformer-based](https://arxiv.org/abs/1706.03762) model built on the encoder-decoder architecture, pretrained on a multi-task mixture of unsupervised and supervised tasks where each task is converted into a text-to-text format. T5 shows impressive results in a variety of sequence-to-sequence tasks like summarization, translation, etc.\n",
    "\n",
    "The T5 model was presented in [Exploring the Limits of Transfer Learning with a Unified Text-to-Text Transformer](https://arxiv.org/pdf/1910.10683) by Colin Raffel, Noam Shazeer, Adam Roberts, Katherine Lee, Sharan Narang, Michael Matena, Yanqi Zhou, Wei Li, Peter J. Liu.\n",
    "\n",
    "Some notes on the model:\n",
    "\n",
    "1. T5 is an encoder-decoder model pre-trained on a multi-task mixture of unsupervised and supervised tasks and for which each task is converted into a text-to-text format. T5 works well on a variety of tasks out-of-the-box by prepending a different prefix to the input corresponding to each task, e.g., for translation: translate English to German: …, for summarization: summarize: ….\n",
    "\n",
    "1. The pretraining includes both supervised and self-supervised training. Supervised training is conducted on downstream tasks provided by the GLUE and SuperGLUE benchmarks (converting them into text-to-text tasks as explained above).\n",
    "\n",
    "1. Self-supervised training uses corrupted tokens, by randomly removing 15% of the tokens and replacing them with individual sentinel tokens (if several consecutive tokens are marked for removal, the whole group is replaced with a single sentinel token). The input of the encoder is the corrupted sentence, the input of the decoder is the original sentence and the target is then the dropped out tokens delimited by their sentinel tokens.\n",
    "\n",
    "1. T5 uses relative scalar embeddings. Encoder input padding can be done on the left and on the right.\n",
    "\n",
    "Alternative models that can be used in this notebook instead of T5 include:\n",
    "\n",
    "[BART](https://huggingface.co/docs/transformers/model_doc/bart), [BigBird-Pegasus](https://huggingface.co/docs/transformers/model_doc/bigbird_pegasus), [Blenderbot](https://huggingface.co/docs/transformers/model_doc/blenderbot), [BlenderbotSmall](https://huggingface.co/docs/transformers/model_doc/blenderbot-small), [Encoder decoder](https://huggingface.co/docs/transformers/model_doc/encoder-decoder), [FairSeq Machine-Translation](https://huggingface.co/docs/transformers/model_doc/fsmt), [LED](https://huggingface.co/docs/transformers/model_doc/led), [LongT5](https://huggingface.co/docs/transformers/model_doc/longt5), [M2M100](https://huggingface.co/docs/transformers/model_doc/m2m_100), [Marian](https://huggingface.co/docs/transformers/model_doc/marian), [mBART](https://huggingface.co/docs/transformers/model_doc/mbart), [MT5](https://huggingface.co/docs/transformers/model_doc/mt5), [MVP](https://huggingface.co/docs/transformers/model_doc/mvp), [NLLB](https://huggingface.co/docs/transformers/model_doc/nllb), [NLLB-MOE](https://huggingface.co/docs/transformers/model_doc/nllb-moe), [Pegasus](https://huggingface.co/docs/transformers/model_doc/pegasus), [PEGASUS-X](https://huggingface.co/docs/transformers/model_doc/pegasus_x), [PLBart](https://huggingface.co/docs/transformers/model_doc/plbart), [ProphetNet](https://huggingface.co/docs/transformers/model_doc/prophetnet), [SwitchTransformers](https://huggingface.co/docs/transformers/model_doc/switch_transformers), [UMT5](https://huggingface.co/docs/transformers/model_doc/umt5), [XLM-ProphetNet](https://huggingface.co/docs/transformers/model_doc/xlm-prophetnet)\n",
    "\n",
    "### The XSum Dataset\n",
    "\n",
    "In this notebook, we will fine-tune the pretrained T5 model on the Abstractive Summarization task using Hugging Face Transformers on the [Extreme Summarization (XSum)](https://arxiv.org/abs/1808.08745) dataset loaded from Hugging Face Datasets. We will then use this finetuned model for inference."
   ]
  },
  {
   "cell_type": "markdown",
   "id": "8c9f6ef4-fb21-4892-9be8-5f4599117b6e",
   "metadata": {},
   "source": [
    "## Setup\n",
    "### Installing the requirements"
   ]
  },
  {
   "cell_type": "code",
   "execution_count": 1,
   "id": "ed2a7914-9619-4860-bba4-4eb3ad2421a2",
   "metadata": {},
   "outputs": [
    {
     "name": "stdout",
     "output_type": "stream",
     "text": [
      "Note: you may need to restart the kernel to use updated packages.\n"
     ]
    }
   ],
   "source": [
    "%pip install -Uqq numpy scipy transformers datasets evaluate rouge_score accelerate"
   ]
  },
  {
   "cell_type": "markdown",
   "id": "af7e2c64-98bd-40df-8a4b-7789a9ae1101",
   "metadata": {},
   "source": [
    "### Define variables"
   ]
  },
  {
   "cell_type": "code",
   "execution_count": 6,
   "id": "38c2748a-845a-42c2-822b-318514a573fa",
   "metadata": {},
   "outputs": [],
   "source": [
    "DATASET_SAMPLE_SPLIT = 0.2 # The percentage of the dataset we will sample\n",
    "TRAIN_SIZE_SPLIT = 0.8 # The percentage of the sample dataset that we will use in the train set\n",
    "TEST_SIZE_SPLIT = 0.2 # The percentage of the sample dataset that we will use in the test set\n",
    "MAX_INPUT_LENGTH = 1024  # Maximum length of the input to the model\n",
    "MIN_TARGET_LENGTH = 5  # Minimum length of the output by the model\n",
    "MAX_TARGET_LENGTH = 128  # Maximum length of the output by the model\n",
    "BATCH_SIZE = 8  # Batch-size for training our model\n",
    "LEARNING_RATE = 2e-5  # Learning-rate for training our model\n",
    "MAX_EPOCHS = 1  # Maximum number of epochs we will train the model for\n",
    "\n",
    "# This notebook is built on the t5-small checkpoint from the Hugging Face Model Hub\n",
    "MODEL_CHECKPOINT = \"t5-small\"\n",
    "\n",
    "# Local directory where to save the finetuned model\n",
    "MODEL_PATH = \"T5-XSum-base\"\n",
    "\n",
    "# Repository name for saving model to the Hugging Face Hub\n",
    "REPO_NAME = \"alexrodpas/T5-XSum-base\"\n",
    "\n",
    "# File for inference example\n",
    "INPUT_FILE = \"Input/Airlines_Are_Just_Banks_Now.txt\"\n",
    "\n",
    "# For summarization tasks, T5 requires the following prefix\n",
    "PREFIX = \"summarize: \"\n",
    "\n",
    "# Enable parallelized tokenization\n",
    "TOKENIZERS_PARALLELISM = True\n",
    "\n",
    "# Disable W&B logging\n",
    "import os\n",
    "os.environ[\"WANDB_DISABLED\"] = \"true\""
   ]
  },
  {
   "cell_type": "markdown",
   "id": "997360e5-1466-43a4-97c8-70e157e2416f",
   "metadata": {},
   "source": [
    "## Load the dataset\n",
    "We will now download the [Extreme Summarization (XSum)](https://arxiv.org/abs/1808.08745) dataset. This dataset consists of BBC articles and accompanying single sentence summaries. Specifically, each article is prefaced with an introductory sentence (aka summary) which is professionally written, typically by the author of the article. That dataset has 226,711 articles divided into training (90%, 204,045), validation (5%, 11,332), and test (5%, 11,334) sets.\n",
    "\n",
    "We will use the Recall-Oriented Understudy for Gisting Evaluation (ROUGE) metric, which is commonly found in the literature, to evaluate our sequence-to-sequence abstrative summarization approach.\n",
    "\n",
    "We will use the [Hugging Face Datasets library](https://github.com/huggingface/datasets) to download the data we need to use for training and evaluation. This can be easily done with the `load_dataset` function."
   ]
  },
  {
   "cell_type": "code",
   "execution_count": 7,
   "id": "f577e489-a722-4ba7-b0db-1faf9cf2bcc0",
   "metadata": {},
   "outputs": [],
   "source": [
    "from datasets import load_dataset\n",
    "\n",
    "raw_datasets = load_dataset(\"xsum\", split=\"train\")"
   ]
  },
  {
   "cell_type": "markdown",
   "id": "56e1f68e-80d6-4edf-a154-875827a331d3",
   "metadata": {},
   "source": [
    "The dataset has the following fields:\n",
    "\n",
    "- __document__: the original BBC article to be summarized\n",
    "- __summary__: the single sentence summary of the BBC article\n",
    "- __id__: ID of the document-summary pair"
   ]
  },
  {
   "cell_type": "code",
   "execution_count": 8,
   "id": "64c6f8d4-e834-467a-bf03-02a40d1e098c",
   "metadata": {},
   "outputs": [
    {
     "data": {
      "text/plain": [
       "Dataset({\n",
       "    features: ['document', 'summary', 'id'],\n",
       "    num_rows: 204045\n",
       "})"
      ]
     },
     "execution_count": 8,
     "metadata": {},
     "output_type": "execute_result"
    }
   ],
   "source": [
    "raw_datasets"
   ]
  },
  {
   "cell_type": "markdown",
   "id": "5b6646f1-0e54-42fb-b042-c9b7e68c5be3",
   "metadata": {},
   "source": [
    "We can see how the data looks like by retrieving the first item in ``raw_datasets``:"
   ]
  },
  {
   "cell_type": "code",
   "execution_count": 9,
   "id": "60de44da-0a1d-43c9-b10d-40df7637f403",
   "metadata": {},
   "outputs": [
    {
     "name": "stdout",
     "output_type": "stream",
     "text": [
      "{'document': 'The full cost of damage in Newton Stewart, one of the areas worst affected, is still being assessed.\\nRepair work is ongoing in Hawick and many roads in Peeblesshire remain badly affected by standing water.\\nTrains on the west coast mainline face disruption due to damage at the Lamington Viaduct.\\nMany businesses and householders were affected by flooding in Newton Stewart after the River Cree overflowed into the town.\\nFirst Minister Nicola Sturgeon visited the area to inspect the damage.\\nThe waters breached a retaining wall, flooding many commercial properties on Victoria Street - the main shopping thoroughfare.\\nJeanette Tate, who owns the Cinnamon Cafe which was badly affected, said she could not fault the multi-agency response once the flood hit.\\nHowever, she said more preventative work could have been carried out to ensure the retaining wall did not fail.\\n\"It is difficult but I do think there is so much publicity for Dumfries and the Nith - and I totally appreciate that - but it is almost like we\\'re neglected or forgotten,\" she said.\\n\"That may not be true but it is perhaps my perspective over the last few days.\\n\"Why were you not ready to help us a bit more when the warning and the alarm alerts had gone out?\"\\nMeanwhile, a flood alert remains in place across the Borders because of the constant rain.\\nPeebles was badly hit by problems, sparking calls to introduce more defences in the area.\\nScottish Borders Council has put a list on its website of the roads worst affected and drivers have been urged not to ignore closure signs.\\nThe Labour Party\\'s deputy Scottish leader Alex Rowley was in Hawick on Monday to see the situation first hand.\\nHe said it was important to get the flood protection plan right but backed calls to speed up the process.\\n\"I was quite taken aback by the amount of damage that has been done,\" he said.\\n\"Obviously it is heart-breaking for people who have been forced out of their homes and the impact on businesses.\"\\nHe said it was important that \"immediate steps\" were taken to protect the areas most vulnerable and a clear timetable put in place for flood prevention plans.\\nHave you been affected by flooding in Dumfries and Galloway or the Borders? Tell us about your experience of the situation and how it was handled. Email us on selkirk.news@bbc.co.uk or dumfries@bbc.co.uk.', 'summary': 'Clean-up operations are continuing across the Scottish Borders and Dumfries and Galloway after flooding caused by Storm Frank.', 'id': '35232142'}\n"
     ]
    }
   ],
   "source": [
    "print(raw_datasets[0])"
   ]
  },
  {
   "cell_type": "markdown",
   "id": "4ddf9167-d2ae-4021-90ad-f2d2f8b49357",
   "metadata": {},
   "source": [
    "For the sake of demonstrating the workflow, in this notebook we will only take small stratified balanced splits (20%) of the dataset as our training and test sets (which are then split 80/20). We can easily split the dataset using the `train_test_split` method which expects the split size and the name of the column relative to which you want to stratify."
   ]
  },
  {
   "cell_type": "code",
   "execution_count": 10,
   "id": "bad5a685-65a1-46c2-bcf2-68391aefd0e9",
   "metadata": {},
   "outputs": [],
   "source": [
    "raw_datasets = raw_datasets.train_test_split(train_size=DATASET_SAMPLE_SPLIT*TRAIN_SIZE_SPLIT, test_size=DATASET_SAMPLE_SPLIT*TEST_SIZE_SPLIT)"
   ]
  },
  {
   "cell_type": "code",
   "execution_count": 11,
   "id": "3b947019-4213-4372-bd3d-2ba0066933c2",
   "metadata": {},
   "outputs": [
    {
     "data": {
      "text/plain": [
       "DatasetDict({\n",
       "    train: Dataset({\n",
       "        features: ['document', 'summary', 'id'],\n",
       "        num_rows: 32647\n",
       "    })\n",
       "    test: Dataset({\n",
       "        features: ['document', 'summary', 'id'],\n",
       "        num_rows: 8162\n",
       "    })\n",
       "})"
      ]
     },
     "execution_count": 11,
     "metadata": {},
     "output_type": "execute_result"
    }
   ],
   "source": [
    "raw_datasets"
   ]
  },
  {
   "cell_type": "markdown",
   "id": "d8dcf6ae-3b86-4a0e-ad58-78504efca4c8",
   "metadata": {},
   "source": [
    "## Data pre-processing\n",
    "Before we can feed those texts to our model, we need to pre-process them and get them ready for the task. This is done by a Hugging Face Transformers `Tokenizer` which will tokenize the inputs (including converting the tokens to their corresponding IDs in the pretrained vocabulary) and put it in a format the model expects, as well as generate the other inputs that model requires.\n",
    "\n",
    "The `from_pretrained()` method expects the name of a model from the Hugging Face Model Hub. This is the MODEL_CHECKPOINT that we declared earlier."
   ]
  },
  {
   "cell_type": "code",
   "execution_count": 12,
   "id": "7e09b304-e6d8-4d93-afd8-1549bedd1d97",
   "metadata": {},
   "outputs": [
    {
     "data": {
      "application/vnd.jupyter.widget-view+json": {
       "model_id": "7d9b97e4c1544d73b68ac748be8c7627",
       "version_major": 2,
       "version_minor": 0
      },
      "text/plain": [
       "Downloading (…)okenizer_config.json:   0%|          | 0.00/2.32k [00:00<?, ?B/s]"
      ]
     },
     "metadata": {},
     "output_type": "display_data"
    },
    {
     "data": {
      "application/vnd.jupyter.widget-view+json": {
       "model_id": "d05da3dd5aad45bf98a2e7383fb10e00",
       "version_major": 2,
       "version_minor": 0
      },
      "text/plain": [
       "Downloading (…)ve/main/spiece.model:   0%|          | 0.00/792k [00:00<?, ?B/s]"
      ]
     },
     "metadata": {},
     "output_type": "display_data"
    },
    {
     "data": {
      "application/vnd.jupyter.widget-view+json": {
       "model_id": "869706a3a5a14f96912e57ecb3c625bc",
       "version_major": 2,
       "version_minor": 0
      },
      "text/plain": [
       "Downloading (…)/main/tokenizer.json:   0%|          | 0.00/1.39M [00:00<?, ?B/s]"
      ]
     },
     "metadata": {},
     "output_type": "display_data"
    }
   ],
   "source": [
    "from transformers import AutoTokenizer\n",
    "\n",
    "tokenizer = AutoTokenizer.from_pretrained(MODEL_CHECKPOINT)"
   ]
  },
  {
   "cell_type": "markdown",
   "id": "e3830ff0-dc35-4fc1-afbc-610bd8e82940",
   "metadata": {},
   "source": [
    "Next, we will write a simple function that helps us in the pre-processing that is compatible with Hugging Face Datasets. This pre-processing function should:\n",
    "\n",
    "1. Properly indicate the task that we intend to perform, which is summarization (T5 models can also be used for translation, so if using one of the five T5 checkpoints we have to prefix the inputs with \"summarize:\").\n",
    "1. Tokenize the text dataset (input and targets) into it's corresponding token ids that will be used for embedding look-up in BERT.\n",
    "1. Add the prefix to the tokens.\n",
    "1. Create additional inputs for the model like `token_type_ids`, `attention_mask`, etc.\n"
   ]
  },
  {
   "cell_type": "code",
   "execution_count": 13,
   "id": "d196723d-330c-4ad0-a1a8-e12e39a33e2d",
   "metadata": {},
   "outputs": [],
   "source": [
    "def preprocess_fn(examples, tokenizer):\n",
    "    if MODEL_CHECKPOINT in [\"t5-small\", \"t5-base\", \"t5-large\", \"t5-3b\", \"t5-11b\"]: prefix = PREFIX\n",
    "    else: prefix = \"\"\n",
    "\n",
    "    inputs = [prefix + doc for doc in examples[\"document\"]]\n",
    "    model_inputs = tokenizer(inputs, max_length=MAX_INPUT_LENGTH, truncation=True)\n",
    "\n",
    "    # Setup the tokenizer for targets\n",
    "    with tokenizer.as_target_tokenizer():\n",
    "        labels = tokenizer(text=examples[\"summary\"], max_length=MAX_TARGET_LENGTH, truncation=True)\n",
    "\n",
    "    model_inputs[\"labels\"] = labels[\"input_ids\"]\n",
    "\n",
    "    return model_inputs"
   ]
  },
  {
   "cell_type": "markdown",
   "id": "6f1268fd-69a0-40bd-bc7c-88d460bbc3f2",
   "metadata": {},
   "source": [
    "To apply this function on all the pairs of sentences in our dataset, we just use the `map` method of our `dataset` object we created earlier. This will apply the function on all the elements of all the splits in `dataset`, so our training and testing data will be preprocessed in one single command."
   ]
  },
  {
   "cell_type": "code",
   "execution_count": 14,
   "id": "ef8d96ea-1f5d-4327-bb1b-cc8a94218e6a",
   "metadata": {},
   "outputs": [
    {
     "data": {
      "text/plain": [
       "DatasetDict({\n",
       "    train: Dataset({\n",
       "        features: ['document', 'summary', 'id'],\n",
       "        num_rows: 32647\n",
       "    })\n",
       "    test: Dataset({\n",
       "        features: ['document', 'summary', 'id'],\n",
       "        num_rows: 8162\n",
       "    })\n",
       "})"
      ]
     },
     "execution_count": 14,
     "metadata": {},
     "output_type": "execute_result"
    }
   ],
   "source": [
    "raw_datasets"
   ]
  },
  {
   "cell_type": "code",
   "execution_count": 15,
   "id": "d58f79ab-2aee-4ddd-a3bf-cfa19552d7c7",
   "metadata": {},
   "outputs": [
    {
     "data": {
      "application/vnd.jupyter.widget-view+json": {
       "model_id": "8c814c62e1904e89acd497d2e20b62b8",
       "version_major": 2,
       "version_minor": 0
      },
      "text/plain": [
       "Map:   0%|          | 0/32647 [00:00<?, ? examples/s]"
      ]
     },
     "metadata": {},
     "output_type": "display_data"
    },
    {
     "name": "stderr",
     "output_type": "stream",
     "text": [
      "/usr/local/lib/python3.9/dist-packages/transformers/tokenization_utils_base.py:3856: UserWarning: `as_target_tokenizer` is deprecated and will be removed in v5 of Transformers. You can tokenize your labels by using the argument `text_target` of the regular `__call__` method (either in the same call as your input texts if you use the same keyword arguments, or in a separate call.\n",
      "  warnings.warn(\n"
     ]
    },
    {
     "data": {
      "application/vnd.jupyter.widget-view+json": {
       "model_id": "7375787741fb428b9d7588946513d187",
       "version_major": 2,
       "version_minor": 0
      },
      "text/plain": [
       "Map:   0%|          | 0/8162 [00:00<?, ? examples/s]"
      ]
     },
     "metadata": {},
     "output_type": "display_data"
    }
   ],
   "source": [
    "tokenized_datasets = raw_datasets.map(preprocess_fn, fn_kwargs={\"tokenizer\":tokenizer}, batched=True)"
   ]
  },
  {
   "cell_type": "markdown",
   "id": "7207676f-1549-41b1-ad7c-e7ee8a770ea4",
   "metadata": {},
   "source": [
    "## Define the model\n",
    "Now we can download the pretrained model and fine-tune it. Since our task is sequence-to-sequence (both the input and output are text sequences), we use the `TFAutoModelForSeq2SeqLM` class from the Hugging Face Transformers library. Like with the tokenizer, the `from_pretrained` method will download and cache the model for us.\n",
    "\n",
    "The `from_pretrained()` method expects the name of a model from the Hugging Face Model Hub. As mentioned earlier, we will use the `t5-small` model checkpoint."
   ]
  },
  {
   "cell_type": "code",
   "execution_count": 16,
   "id": "76348cb5-d982-4ead-9ae0-3010860b66e6",
   "metadata": {},
   "outputs": [
    {
     "name": "stderr",
     "output_type": "stream",
     "text": [
      "huggingface/tokenizers: The current process just got forked, after parallelism has already been used. Disabling parallelism to avoid deadlocks...\n",
      "To disable this warning, you can either:\n",
      "\t- Avoid using `tokenizers` before the fork if possible\n",
      "\t- Explicitly set the environment variable TOKENIZERS_PARALLELISM=(true | false)\n"
     ]
    },
    {
     "data": {
      "application/vnd.jupyter.widget-view+json": {
       "model_id": "d11a73eb91144ebaa36de72494d5c779",
       "version_major": 2,
       "version_minor": 0
      },
      "text/plain": [
       "Downloading (…)lve/main/config.json:   0%|          | 0.00/1.21k [00:00<?, ?B/s]"
      ]
     },
     "metadata": {},
     "output_type": "display_data"
    },
    {
     "data": {
      "application/vnd.jupyter.widget-view+json": {
       "model_id": "7f7edcb101c24226b7f3090fd07d430a",
       "version_major": 2,
       "version_minor": 0
      },
      "text/plain": [
       "Downloading model.safetensors:   0%|          | 0.00/242M [00:00<?, ?B/s]"
      ]
     },
     "metadata": {},
     "output_type": "display_data"
    },
    {
     "data": {
      "application/vnd.jupyter.widget-view+json": {
       "model_id": "0fb21b8bca4a47e6990b4f08b59f09c3",
       "version_major": 2,
       "version_minor": 0
      },
      "text/plain": [
       "Downloading (…)neration_config.json:   0%|          | 0.00/147 [00:00<?, ?B/s]"
      ]
     },
     "metadata": {},
     "output_type": "display_data"
    }
   ],
   "source": [
    "from transformers import AutoModelForSeq2SeqLM, DataCollatorForSeq2Seq\n",
    "\n",
    "model = AutoModelForSeq2SeqLM.from_pretrained(MODEL_CHECKPOINT)"
   ]
  },
  {
   "cell_type": "markdown",
   "id": "d6f98e05-b588-441d-9e1f-c8a7fe04c2cf",
   "metadata": {},
   "source": [
    "For training Sequence to Sequence models, we need a special kind of data collator, which will not only pad the inputs to the maximum length in the batch, but also the labels. Thus, we use the `DataCollatorForSeq2Seq` provided by the Hugging Face Transformers library on our dataset."
   ]
  },
  {
   "cell_type": "code",
   "execution_count": 17,
   "id": "0c1b6f2c-2d0f-4f79-aa46-79a075c672a1",
   "metadata": {},
   "outputs": [],
   "source": [
    "from transformers import DataCollatorForSeq2Seq\n",
    "\n",
    "data_collator = DataCollatorForSeq2Seq(tokenizer, model=model)"
   ]
  },
  {
   "cell_type": "markdown",
   "id": "2491cf61-55ef-41d4-b9f1-2307346d3944",
   "metadata": {},
   "source": [
    "## Define evaluation metric and function\n",
    "We define a metric that we'll use during training because it will help in evaluating our model’s performance. We can quickly load a evaluation method with the `evaluate` library. For our summarization task, we load the [ROUGE](https://huggingface.co/spaces/evaluate-metric/rouge) metric."
   ]
  },
  {
   "cell_type": "code",
   "execution_count": 18,
   "id": "011ae046-0b4e-4d67-bc23-37398f596b7e",
   "metadata": {},
   "outputs": [
    {
     "data": {
      "application/vnd.jupyter.widget-view+json": {
       "model_id": "ba1d1bca776c4cd7a0e2a96a61df7db6",
       "version_major": 2,
       "version_minor": 0
      },
      "text/plain": [
       "Downloading builder script:   0%|          | 0.00/6.27k [00:00<?, ?B/s]"
      ]
     },
     "metadata": {},
     "output_type": "display_data"
    }
   ],
   "source": [
    "import evaluate\n",
    "\n",
    "rouge = evaluate.load(\"rouge\")"
   ]
  },
  {
   "cell_type": "markdown",
   "id": "65ce390b-13b9-43a2-bfd7-b89503fc237f",
   "metadata": {},
   "source": [
    "Now we define `metric_fn` which will calculate the ROUGE score between the ground-truth and predictions."
   ]
  },
  {
   "cell_type": "code",
   "execution_count": 19,
   "id": "f18ac286-3d87-47b4-9a4c-a8520a19ef32",
   "metadata": {},
   "outputs": [],
   "source": [
    "import numpy as np\n",
    "\n",
    "def metric_fn(eval_pred):\n",
    "    predictions, labels = eval_pred\n",
    "    decoded_preds = tokenizer.batch_decode(predictions, skip_special_tokens=True)\n",
    "    labels = np.where(labels != -100, labels, tokenizer.pad_token_id)\n",
    "    decoded_labels = tokenizer.batch_decode(labels, skip_special_tokens=True)\n",
    "\n",
    "    result = rouge.compute(predictions=decoded_preds, references=decoded_labels, use_stemmer=True)\n",
    "\n",
    "    prediction_lens = [np.count_nonzero(pred != tokenizer.pad_token_id) for pred in predictions]\n",
    "    result[\"gen_len\"] = np.mean(prediction_lens)\n",
    "\n",
    "    return {k: round(v, 4) for k, v in result.items()}"
   ]
  },
  {
   "cell_type": "markdown",
   "id": "679716ad-a8c8-4d1a-a8b3-53e85a37edf7",
   "metadata": {},
   "source": [
    "## Train the model\n",
    "\n",
    "We will use [``Seq2SeqTrainer``](https://huggingface.co/docs/transformers/main/en/main_classes/trainer#transformers.Seq2SeqTrainer), a ``Trainer`` class from the Transformers library that can be used for sequence-to-sequence tasks such as translation or summarization.\n",
    "\n",
    "To train the model we:\n",
    "\n",
    "1. Define our training hyperparameters in `Seq2SeqTrainingArguments`. The only required parameter is `output_dir` which specifies where to save our model. At the end of each epoch, the `Trainer` will evaluate the ROUGE metric and save the training checkpoint. We set `push_to_hub` to True so we can later upload the model to the Hugging Face hub (this requires being logged in to Hugging Face).\n",
    "2. Pass the training arguments to `Seq2SeqTrainer` along with the model, dataset, tokenizer, data collator, and compute_metrics function.\n",
    "3. Call `train()` to finetune our model."
   ]
  },
  {
   "cell_type": "code",
   "execution_count": 21,
   "id": "d4a2f2b7-d822-481a-bee2-6cfcbb0da134",
   "metadata": {},
   "outputs": [
    {
     "name": "stderr",
     "output_type": "stream",
     "text": [
      "Using the `WANDB_DISABLED` environment variable is deprecated and will be removed in v5. Use the --report_to flag to control the integrations used for logging result (for instance --report_to none).\n"
     ]
    }
   ],
   "source": [
    "from transformers import AutoModelForSeq2SeqLM, Seq2SeqTrainingArguments, Seq2SeqTrainer\n",
    "\n",
    "training_args = Seq2SeqTrainingArguments(\n",
    "    output_dir=MODEL_PATH,\n",
    "    evaluation_strategy=\"epoch\",\n",
    "    learning_rate=2e-5,\n",
    "    per_device_train_batch_size=16,\n",
    "    per_device_eval_batch_size=16,\n",
    "    weight_decay=0.01,\n",
    "    save_total_limit=3,\n",
    "    num_train_epochs=3,\n",
    "    predict_with_generate=True,\n",
    "    fp16=True,\n",
    "    push_to_hub=True,\n",
    ")\n",
    "\n",
    "trainer = Seq2SeqTrainer(\n",
    "    model=model,\n",
    "    args=training_args,\n",
    "    train_dataset=tokenized_datasets[\"train\"],\n",
    "    eval_dataset=tokenized_datasets[\"test\"],\n",
    "    tokenizer=tokenizer,\n",
    "    data_collator=data_collator,\n",
    "    compute_metrics=metric_fn,\n",
    ")"
   ]
  },
  {
   "cell_type": "code",
   "execution_count": 22,
   "id": "ef382aee-906b-4384-b277-a0501e861274",
   "metadata": {},
   "outputs": [
    {
     "name": "stderr",
     "output_type": "stream",
     "text": [
      "You're using a T5TokenizerFast tokenizer. Please note that with a fast tokenizer, using the `__call__` method is faster than using a method to encode the text followed by a call to the `pad` method to get a padded encoding.\n"
     ]
    },
    {
     "data": {
      "text/html": [
       "\n",
       "    <div>\n",
       "      \n",
       "      <progress value='6123' max='6123' style='width:300px; height:20px; vertical-align: middle;'></progress>\n",
       "      [6123/6123 1:05:47, Epoch 3/3]\n",
       "    </div>\n",
       "    <table border=\"1\" class=\"dataframe\">\n",
       "  <thead>\n",
       " <tr style=\"text-align: left;\">\n",
       "      <th>Epoch</th>\n",
       "      <th>Training Loss</th>\n",
       "      <th>Validation Loss</th>\n",
       "      <th>Rouge1</th>\n",
       "      <th>Rouge2</th>\n",
       "      <th>Rougel</th>\n",
       "      <th>Rougelsum</th>\n",
       "      <th>Gen Len</th>\n",
       "    </tr>\n",
       "  </thead>\n",
       "  <tbody>\n",
       "    <tr>\n",
       "      <td>1</td>\n",
       "      <td>2.823400</td>\n",
       "      <td>2.591606</td>\n",
       "      <td>0.262300</td>\n",
       "      <td>0.064700</td>\n",
       "      <td>0.204300</td>\n",
       "      <td>0.204400</td>\n",
       "      <td>18.815200</td>\n",
       "    </tr>\n",
       "    <tr>\n",
       "      <td>2</td>\n",
       "      <td>2.774200</td>\n",
       "      <td>2.557712</td>\n",
       "      <td>0.270700</td>\n",
       "      <td>0.070200</td>\n",
       "      <td>0.211800</td>\n",
       "      <td>0.211700</td>\n",
       "      <td>18.821200</td>\n",
       "    </tr>\n",
       "    <tr>\n",
       "      <td>3</td>\n",
       "      <td>2.748200</td>\n",
       "      <td>2.549059</td>\n",
       "      <td>0.273000</td>\n",
       "      <td>0.071100</td>\n",
       "      <td>0.213400</td>\n",
       "      <td>0.213400</td>\n",
       "      <td>18.819400</td>\n",
       "    </tr>\n",
       "  </tbody>\n",
       "</table><p>"
      ],
      "text/plain": [
       "<IPython.core.display.HTML object>"
      ]
     },
     "metadata": {},
     "output_type": "display_data"
    },
    {
     "name": "stderr",
     "output_type": "stream",
     "text": [
      "/usr/local/lib/python3.9/dist-packages/transformers/generation/utils.py:1273: UserWarning: Using the model-agnostic default `max_length` (=20) to control the generation length. We recommend setting `max_new_tokens` to control the maximum length of the generation.\n",
      "  warnings.warn(\n",
      "/usr/local/lib/python3.9/dist-packages/transformers/generation/utils.py:1273: UserWarning: Using the model-agnostic default `max_length` (=20) to control the generation length. We recommend setting `max_new_tokens` to control the maximum length of the generation.\n",
      "  warnings.warn(\n",
      "/usr/local/lib/python3.9/dist-packages/transformers/generation/utils.py:1273: UserWarning: Using the model-agnostic default `max_length` (=20) to control the generation length. We recommend setting `max_new_tokens` to control the maximum length of the generation.\n",
      "  warnings.warn(\n"
     ]
    },
    {
     "data": {
      "text/plain": [
       "TrainOutput(global_step=6123, training_loss=2.8180970773380722, metrics={'train_runtime': 3950.0294, 'train_samples_per_second': 24.795, 'train_steps_per_second': 1.55, 'total_flos': 2.5937796565794816e+16, 'train_loss': 2.8180970773380722, 'epoch': 3.0})"
      ]
     },
     "execution_count": 22,
     "metadata": {},
     "output_type": "execute_result"
    }
   ],
   "source": [
    "trainer.train()"
   ]
  },
  {
   "cell_type": "markdown",
   "id": "270612a9-2707-446f-8d2f-904013f3506e",
   "metadata": {},
   "source": [
    "## Save the model"
   ]
  },
  {
   "cell_type": "markdown",
   "id": "096893e5-8b1d-444b-b035-00da922b9528",
   "metadata": {},
   "source": [
    "First we save the model, locally, for future use:"
   ]
  },
  {
   "cell_type": "code",
   "execution_count": 23,
   "id": "331a8d3f-22b3-43a2-9aef-44b8be654741",
   "metadata": {},
   "outputs": [
    {
     "data": {
      "application/vnd.jupyter.widget-view+json": {
       "model_id": "f74646768e6d44f0a13ee29a912cf008",
       "version_major": 2,
       "version_minor": 0
      },
      "text/plain": [
       "model.safetensors:   0%|          | 0.00/242M [00:00<?, ?B/s]"
      ]
     },
     "metadata": {},
     "output_type": "display_data"
    },
    {
     "data": {
      "application/vnd.jupyter.widget-view+json": {
       "model_id": "9c81d23dec854c21b8fcba2d9fff3510",
       "version_major": 2,
       "version_minor": 0
      },
      "text/plain": [
       "events.out.tfevents.1699377594.n22hf832wh.81.0:   0%|          | 0.00/8.94k [00:00<?, ?B/s]"
      ]
     },
     "metadata": {},
     "output_type": "display_data"
    },
    {
     "data": {
      "application/vnd.jupyter.widget-view+json": {
       "model_id": "73b0874e99de4566aced4e6f747c83fd",
       "version_major": 2,
       "version_minor": 0
      },
      "text/plain": [
       "Upload 2 LFS files:   0%|          | 0/2 [00:00<?, ?it/s]"
      ]
     },
     "metadata": {},
     "output_type": "display_data"
    }
   ],
   "source": [
    "trainer.save_model(MODEL_PATH)"
   ]
  },
  {
   "cell_type": "markdown",
   "id": "a3814e2d-7802-4d09-9790-df133fcf05e6",
   "metadata": {},
   "source": [
    "Now, we can also upload it (push it) to the Hugging Face Hub, so we can share it and get version control on it. Since Hugging Face model repos are just Git repositories, we could use Git to push our model files to the Hub. Follow the guide on [Getting Started with Repositories](https://huggingface.co/docs/hub/repositories-getting-started) to learn about using the git CLI to commit and push your models. Here we will use the `huggingface_hub` client library to upload our model to the Hub. The rich feature set in the `huggingface_hub` library allows you to manage repositories, including creating repos and uploading models to the Model Hub. Visit the client library’s documentation to learn more. We'll need a Hugging Face API token (either stored in the cache or copied and pasted in our notebook). You can find in the [Hugging Face documentation](https://huggingface.co/docs/transformers/v4.14.1/model_sharing) how to obtain it."
   ]
  },
  {
   "cell_type": "code",
   "execution_count": null,
   "id": "a12f7293-69d9-4131-a4f9-1ca44d724a66",
   "metadata": {},
   "outputs": [],
   "source": [
    "from huggingface_hub import login\n",
    "\n",
    "login()"
   ]
  },
  {
   "cell_type": "code",
   "execution_count": 25,
   "id": "d6649b71-954c-4c02-b17e-b5f36d1a4b6f",
   "metadata": {},
   "outputs": [
    {
     "data": {
      "text/plain": [
       "'https://huggingface.co/alexrodpas/T5-XSum-base/tree/main/'"
      ]
     },
     "execution_count": 25,
     "metadata": {},
     "output_type": "execute_result"
    }
   ],
   "source": [
    "trainer.push_to_hub(REPO_NAME)"
   ]
  },
  {
   "cell_type": "markdown",
   "id": "43d437af-3980-4613-82f2-b674bbaa084a",
   "metadata": {},
   "source": [
    "## Inference\n",
    "\n",
    "Once our model is finetuned, we can use it for inference. We'll show here an example, with the following text (extracted from the [Airlines Are Just Banks Now](https://www.theatlantic.com/ideas/archive/2023/09/airlines-banks-mileage-programs/675374/) article by Ganesh Sitaraman, published in The Atlantic on September 21, as input."
   ]
  },
  {
   "cell_type": "code",
   "execution_count": 27,
   "id": "cc28b9f4-f82e-434f-a2fe-a501ad0ce12b",
   "metadata": {},
   "outputs": [],
   "source": [
    "input_file = INPUT_FILE\n",
    "with open(input_file, 'r') as file:\n",
    "    input = file.read().replace('\\n', '')"
   ]
  },
  {
   "cell_type": "markdown",
   "id": "ca22fe81-fc49-4a69-b5a6-423c3589223a",
   "metadata": {},
   "source": [
    "We add the prefix required by T5 for summarization:"
   ]
  },
  {
   "cell_type": "code",
   "execution_count": 28,
   "id": "c5cf045a-2791-4802-885b-5fc7407a9dfa",
   "metadata": {},
   "outputs": [],
   "source": [
    "pref_input = PREFIX + input"
   ]
  },
  {
   "cell_type": "markdown",
   "id": "b136f3f2-6058-4db9-be98-48e3486a2c87",
   "metadata": {},
   "source": [
    "The simplest way to try out our finetuned model for inference is to use it in a ``pipeline()``. We instantiate a pipeline for summarization with our model, and pass our input text to it:"
   ]
  },
  {
   "cell_type": "code",
   "execution_count": 29,
   "id": "9f7fbcac-84e8-4797-9ee9-2ca218745ba2",
   "metadata": {},
   "outputs": [
    {
     "data": {
      "application/vnd.jupyter.widget-view+json": {
       "model_id": "2c059de7a9c748b1967d1a6224ddc3ca",
       "version_major": 2,
       "version_minor": 0
      },
      "text/plain": [
       "Downloading (…)lve/main/config.json:   0%|          | 0.00/1.50k [00:00<?, ?B/s]"
      ]
     },
     "metadata": {},
     "output_type": "display_data"
    },
    {
     "data": {
      "application/vnd.jupyter.widget-view+json": {
       "model_id": "285b9a17291546438eefbf300d6b9a6a",
       "version_major": 2,
       "version_minor": 0
      },
      "text/plain": [
       "Downloading model.safetensors:   0%|          | 0.00/242M [00:00<?, ?B/s]"
      ]
     },
     "metadata": {},
     "output_type": "display_data"
    },
    {
     "data": {
      "application/vnd.jupyter.widget-view+json": {
       "model_id": "ac4e29121c484932a4c1d0b425e8062a",
       "version_major": 2,
       "version_minor": 0
      },
      "text/plain": [
       "Downloading (…)neration_config.json:   0%|          | 0.00/112 [00:00<?, ?B/s]"
      ]
     },
     "metadata": {},
     "output_type": "display_data"
    },
    {
     "data": {
      "application/vnd.jupyter.widget-view+json": {
       "model_id": "bb831a50f9744106b5c81dd1e5db0b64",
       "version_major": 2,
       "version_minor": 0
      },
      "text/plain": [
       "Downloading (…)okenizer_config.json:   0%|          | 0.00/20.7k [00:00<?, ?B/s]"
      ]
     },
     "metadata": {},
     "output_type": "display_data"
    },
    {
     "data": {
      "application/vnd.jupyter.widget-view+json": {
       "model_id": "ff7bc9ecb0564cb88e4585676aa2aef5",
       "version_major": 2,
       "version_minor": 0
      },
      "text/plain": [
       "Downloading spiece.model:   0%|          | 0.00/792k [00:00<?, ?B/s]"
      ]
     },
     "metadata": {},
     "output_type": "display_data"
    },
    {
     "data": {
      "application/vnd.jupyter.widget-view+json": {
       "model_id": "006c4a1d7f754d2e92e4b92c1b807b9c",
       "version_major": 2,
       "version_minor": 0
      },
      "text/plain": [
       "Downloading (…)/main/tokenizer.json:   0%|          | 0.00/2.42M [00:00<?, ?B/s]"
      ]
     },
     "metadata": {},
     "output_type": "display_data"
    },
    {
     "data": {
      "application/vnd.jupyter.widget-view+json": {
       "model_id": "89de82ee8f4b4b2b882ed2e0272d01e2",
       "version_major": 2,
       "version_minor": 0
      },
      "text/plain": [
       "Downloading (…)cial_tokens_map.json:   0%|          | 0.00/2.20k [00:00<?, ?B/s]"
      ]
     },
     "metadata": {},
     "output_type": "display_data"
    },
    {
     "name": "stderr",
     "output_type": "stream",
     "text": [
      "Token indices sequence length is longer than the specified maximum sequence length for this model (2097 > 512). Running this sequence through the model will result in indexing errors\n"
     ]
    },
    {
     "data": {
      "text/plain": [
       "[{'summary_text': 'American Airlines has made three changes to its mileage program, which is a symptom of a deeper rot in the American air-travel industry.'}]"
      ]
     },
     "execution_count": 29,
     "metadata": {},
     "output_type": "execute_result"
    }
   ],
   "source": [
    "from transformers import pipeline\n",
    "\n",
    "summarizer = pipeline(\"summarization\", model=REPO_NAME)\n",
    "summarizer(pref_input)"
   ]
  }
 ],
 "metadata": {
  "kernelspec": {
   "display_name": "Python 3 (ipykernel)",
   "language": "python",
   "name": "python3"
  },
  "language_info": {
   "codemirror_mode": {
    "name": "ipython",
    "version": 3
   },
   "file_extension": ".py",
   "mimetype": "text/x-python",
   "name": "python",
   "nbconvert_exporter": "python",
   "pygments_lexer": "ipython3",
   "version": "3.9.13"
  }
 },
 "nbformat": 4,
 "nbformat_minor": 5
}
