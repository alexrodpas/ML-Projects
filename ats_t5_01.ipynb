{
 "cells": [
  {
   "cell_type": "markdown",
   "id": "ef3bd4cf-c353-482d-9fcb-7179efe5a54e",
   "metadata": {},
   "source": [
    "# Abstractive summarization with T5 Transformer model\n",
    "\n",
    "## Introduction\n",
    "\n",
    "### Automatic Summarization\n",
    "\n",
    "__Automatic summarization__ is one of the central problems in Natural Language Processing (NLP). Summarization consists on creating a shorter version of a document or an article that captures all the important information. It poses several challenges relating to language understanding (e.g. identifying important content) and generation (e.g. aggregating and rewording the identified content into a summary).\n",
    "Along with translation, it is another example of a task that can be formulated as a sequence-to-sequence task. \n",
    "\n",
    "Summarization can be: \n",
    "\n",
    "- _Extractive_: extract the most relevant information from a document.\n",
    "- _Abstractive_: generate new text that captures the most relevant information.\n",
    "\n",
    "In this project we will approach the problem of single-document abstractive summarization. Following prior work, we aim to tackle this problem using a sequence-to-sequence model. \n",
    "\n",
    "### The T5 model\n",
    "\n",
    "[Text-to-Text Transfer Transformer (T5)](https://arxiv.org/abs/1910.10683) is a [Transformer-based](https://arxiv.org/abs/1706.03762) model built on the encoder-decoder architecture, pretrained on a multi-task mixture of unsupervised and supervised tasks where each task is converted into a text-to-text format. T5 shows impressive results in a variety of sequence-to-sequence tasks like summarization, translation, etc.\n",
    "\n",
    "The T5 model was presented in [Exploring the Limits of Transfer Learning with a Unified Text-to-Text Transformer](https://arxiv.org/pdf/1910.10683) by Colin Raffel, Noam Shazeer, Adam Roberts, Katherine Lee, Sharan Narang, Michael Matena, Yanqi Zhou, Wei Li, Peter J. Liu.\n",
    "\n",
    "Some notes on the model:\n",
    "\n",
    "1. T5 is an encoder-decoder model pre-trained on a multi-task mixture of unsupervised and supervised tasks and for which each task is converted into a text-to-text format. T5 works well on a variety of tasks out-of-the-box by prepending a different prefix to the input corresponding to each task, e.g., for translation: translate English to German: …, for summarization: summarize: ….\n",
    "\n",
    "1. The pretraining includes both supervised and self-supervised training. Supervised training is conducted on downstream tasks provided by the GLUE and SuperGLUE benchmarks (converting them into text-to-text tasks as explained above).\n",
    "\n",
    "1. Self-supervised training uses corrupted tokens, by randomly removing 15% of the tokens and replacing them with individual sentinel tokens (if several consecutive tokens are marked for removal, the whole group is replaced with a single sentinel token). The input of the encoder is the corrupted sentence, the input of the decoder is the original sentence and the target is then the dropped out tokens delimited by their sentinel tokens.\n",
    "\n",
    "1. T5 uses relative scalar embeddings. Encoder input padding can be done on the left and on the right.\n",
    "\n",
    "Alternative models that can be used in this notebook instead of T5 include:\n",
    "\n",
    "[BART](https://huggingface.co/docs/transformers/model_doc/bart), [BigBird-Pegasus](https://huggingface.co/docs/transformers/model_doc/bigbird_pegasus), [Blenderbot](https://huggingface.co/docs/transformers/model_doc/blenderbot), [BlenderbotSmall](https://huggingface.co/docs/transformers/model_doc/blenderbot-small), [Encoder decoder](https://huggingface.co/docs/transformers/model_doc/encoder-decoder), [FairSeq Machine-Translation](https://huggingface.co/docs/transformers/model_doc/fsmt), [LED](https://huggingface.co/docs/transformers/model_doc/led), [LongT5](https://huggingface.co/docs/transformers/model_doc/longt5), [M2M100](https://huggingface.co/docs/transformers/model_doc/m2m_100), [Marian](https://huggingface.co/docs/transformers/model_doc/marian), [mBART](https://huggingface.co/docs/transformers/model_doc/mbart), [MT5](https://huggingface.co/docs/transformers/model_doc/mt5), [MVP](https://huggingface.co/docs/transformers/model_doc/mvp), [NLLB](https://huggingface.co/docs/transformers/model_doc/nllb), [NLLB-MOE](https://huggingface.co/docs/transformers/model_doc/nllb-moe), [Pegasus](https://huggingface.co/docs/transformers/model_doc/pegasus), [PEGASUS-X](https://huggingface.co/docs/transformers/model_doc/pegasus_x), [PLBart](https://huggingface.co/docs/transformers/model_doc/plbart), [ProphetNet](https://huggingface.co/docs/transformers/model_doc/prophetnet), [SwitchTransformers](https://huggingface.co/docs/transformers/model_doc/switch_transformers), [UMT5](https://huggingface.co/docs/transformers/model_doc/umt5), [XLM-ProphetNet](https://huggingface.co/docs/transformers/model_doc/xlm-prophetnet)\n",
    "\n",
    "### The XSum Dataset\n",
    "\n",
    "In this notebook, we will fine-tune the pretrained T5 model on the Abstractive Summarization task using Hugging Face Transformers on the [Extreme Summarization (XSum)](https://arxiv.org/abs/1808.08745) dataset loaded from Hugging Face Datasets. We will then use this finetuned model for inference."
   ]
  },
  {
   "cell_type": "markdown",
   "id": "8c9f6ef4-fb21-4892-9be8-5f4599117b6e",
   "metadata": {},
   "source": [
    "## Setup\n",
    "### Installing the requirements"
   ]
  },
  {
   "cell_type": "code",
   "execution_count": null,
   "id": "ed2a7914-9619-4860-bba4-4eb3ad2421a2",
   "metadata": {},
   "outputs": [],
   "source": [
    "!pip install transformers datasets evaluate rouge_score"
   ]
  },
  {
   "cell_type": "markdown",
   "id": "af7e2c64-98bd-40df-8a4b-7789a9ae1101",
   "metadata": {},
   "source": [
    "### Define variables"
   ]
  },
  {
   "cell_type": "code",
   "execution_count": null,
   "id": "38c2748a-845a-42c2-822b-318514a573fa",
   "metadata": {},
   "outputs": [],
   "source": [
    "TRAIN_TEST_SPLIT = 0.1 # The percentage of the dataset we will split as train and test\n",
    "MAX_INPUT_LENGTH = 1024  # Maximum length of the input to the model\n",
    "MIN_TARGET_LENGTH = 5  # Minimum length of the output by the model\n",
    "MAX_TARGET_LENGTH = 128  # Maximum length of the output by the model\n",
    "BATCH_SIZE = 8  # Batch-size for training our model\n",
    "LEARNING_RATE = 2e-5  # Learning-rate for training our model\n",
    "MAX_EPOCHS = 1  # Maximum number of epochs we will train the model for\n",
    "\n",
    "# This notebook is built on the t5-small checkpoint from the Hugging Face Model Hub\n",
    "MODEL_CHECKPOINT = \"t5-small\"\n",
    "\n",
    "# Local directory where to save the finetuned model\n",
    "MODEL_PATH = \"T5-XSum-base\"\n",
    "\n",
    "# Repository name for saving model to the Hugging Face Hub\n",
    "REPO_NAME = \"alexrodpas/T5-XSum-base\"\n",
    "\n",
    "# File for inference example\n",
    "INPUT_FILE = \"Input/Airlines_Are_Just_Banks_Now.txt\"\n",
    "\n",
    "# For summarization tasks, T5 requires the following prefix\n",
    "PREFIX = \"summarize: \"\n",
    "\n",
    "# Enable parallelized tokenization\n",
    "TOKENIZERS_PARALLELISM= True\n",
    "\n",
    "# Disable W&B logging\n",
    "import os\n",
    "os.environ[\"WANDB_DISABLED\"] = \"true\""
   ]
  },
  {
   "cell_type": "markdown",
   "id": "997360e5-1466-43a4-97c8-70e157e2416f",
   "metadata": {},
   "source": [
    "## Load the dataset\n",
    "We will now download the [Extreme Summarization (XSum)](https://arxiv.org/abs/1808.08745) dataset. This dataset consists of BBC articles and accompanying single sentence summaries. Specifically, each article is prefaced with an introductory sentence (aka summary) which is professionally written, typically by the author of the article. That dataset has 226,711 articles divided into training (90%, 204,045), validation (5%, 11,332), and test (5%, 11,334) sets.\n",
    "\n",
    "We will use the Recall-Oriented Understudy for Gisting Evaluation (ROUGE) metric, which is commonly found in the literature, to evaluate our sequence-to-sequence abstrative summarization approach.\n",
    "\n",
    "We will use the [Hugging Face Datasets library](https://github.com/huggingface/datasets) to download the data we need to use for training and evaluation. This can be easily done with the `load_dataset` function."
   ]
  },
  {
   "cell_type": "code",
   "execution_count": null,
   "id": "f577e489-a722-4ba7-b0db-1faf9cf2bcc0",
   "metadata": {},
   "outputs": [],
   "source": [
    "from datasets import load_dataset\n",
    "\n",
    "raw_datasets = load_dataset(\"xsum\", split=\"train\")"
   ]
  },
  {
   "cell_type": "markdown",
   "id": "56e1f68e-80d6-4edf-a154-875827a331d3",
   "metadata": {},
   "source": [
    "The dataset has the following fields:\n",
    "\n",
    "- __document__: the original BBC article to be summarized\n",
    "- __summary__: the single sentence summary of the BBC article\n",
    "- __id__: ID of the document-summary pair"
   ]
  },
  {
   "cell_type": "code",
   "execution_count": null,
   "id": "64c6f8d4-e834-467a-bf03-02a40d1e098c",
   "metadata": {},
   "outputs": [],
   "source": [
    "raw_datasets"
   ]
  },
  {
   "cell_type": "markdown",
   "id": "5b6646f1-0e54-42fb-b042-c9b7e68c5be3",
   "metadata": {},
   "source": [
    "We can see how the data looks like by retrieving the first item in ``raw_datasets``:"
   ]
  },
  {
   "cell_type": "code",
   "execution_count": null,
   "id": "60de44da-0a1d-43c9-b10d-40df7637f403",
   "metadata": {},
   "outputs": [],
   "source": [
    "print(raw_datasets[0])"
   ]
  },
  {
   "cell_type": "markdown",
   "id": "4ddf9167-d2ae-4021-90ad-f2d2f8b49357",
   "metadata": {},
   "source": [
    "For the sake of demonstrating the workflow, in this notebook we will only take small stratified balanced splits (10%) of the train split as our training and test sets. We can easily split the dataset using the `train_test_split` method which expects the split size and the name of the column relative to which you want to stratify."
   ]
  },
  {
   "cell_type": "code",
   "execution_count": null,
   "id": "bad5a685-65a1-46c2-bcf2-68391aefd0e9",
   "metadata": {},
   "outputs": [],
   "source": [
    "raw_datasets = raw_datasets.train_test_split(train_size=TRAIN_TEST_SPLIT, test_size=TRAIN_TEST_SPLIT)"
   ]
  },
  {
   "cell_type": "markdown",
   "id": "d8dcf6ae-3b86-4a0e-ad58-78504efca4c8",
   "metadata": {},
   "source": [
    "## Data pre-processing\n",
    "Before we can feed those texts to our model, we need to pre-process them and get them ready for the task. This is done by a Hugging Face Transformers `Tokenizer` which will tokenize the inputs (including converting the tokens to their corresponding IDs in the pretrained vocabulary) and put it in a format the model expects, as well as generate the other inputs that model requires.\n",
    "\n",
    "The `from_pretrained()` method expects the name of a model from the Hugging Face Model Hub. This is the MODEL_CHECKPOINT that we declared earlier."
   ]
  },
  {
   "cell_type": "code",
   "execution_count": null,
   "id": "7e09b304-e6d8-4d93-afd8-1549bedd1d97",
   "metadata": {},
   "outputs": [],
   "source": [
    "from transformers import AutoTokenizer\n",
    "\n",
    "tokenizer = AutoTokenizer.from_pretrained(MODEL_CHECKPOINT)"
   ]
  },
  {
   "cell_type": "markdown",
   "id": "e3830ff0-dc35-4fc1-afbc-610bd8e82940",
   "metadata": {},
   "source": [
    "Next, we will write a simple function that helps us in the pre-processing that is compatible with Hugging Face Datasets. This pre-processing function should:\n",
    "\n",
    "1. Properly indicate the task that we intend to perform, which is summarization (T5 models can also be used for translation, so if using one of the five T5 checkpoints we have to prefix the inputs with \"summarize:\").\n",
    "1. Tokenize the text dataset (input and targets) into it's corresponding token ids that will be used for embedding look-up in BERT.\n",
    "1. Add the prefix to the tokens.\n",
    "1. Create additional inputs for the model like `token_type_ids`, `attention_mask`, etc.\n"
   ]
  },
  {
   "cell_type": "code",
   "execution_count": null,
   "id": "d196723d-330c-4ad0-a1a8-e12e39a33e2d",
   "metadata": {},
   "outputs": [],
   "source": [
    "def preprocess_fn(examples, tokenizer):\n",
    "    if MODEL_CHECKPOINT in [\"t5-small\", \"t5-base\", \"t5-large\", \"t5-3b\", \"t5-11b\"]: prefix = PREFIX\n",
    "    else: prefix = \"\"\n",
    "\n",
    "    inputs = [prefix + doc for doc in examples[\"document\"]]\n",
    "    model_inputs = tokenizer(inputs, max_length=MAX_INPUT_LENGTH, truncation=True)\n",
    "\n",
    "    # Setup the tokenizer for targets\n",
    "    with tokenizer.as_target_tokenizer():\n",
    "        labels = tokenizer(text=examples[\"summary\"], max_length=MAX_TARGET_LENGTH, truncation=True)\n",
    "\n",
    "    model_inputs[\"labels\"] = labels[\"input_ids\"]\n",
    "\n",
    "    return model_inputs"
   ]
  },
  {
   "cell_type": "markdown",
   "id": "6f1268fd-69a0-40bd-bc7c-88d460bbc3f2",
   "metadata": {},
   "source": [
    "To apply this function on all the pairs of sentences in our dataset, we just use the `map` method of our `dataset` object we created earlier. This will apply the function on all the elements of all the splits in `dataset`, so our training and testing data will be preprocessed in one single command."
   ]
  },
  {
   "cell_type": "code",
   "execution_count": null,
   "id": "ef8d96ea-1f5d-4327-bb1b-cc8a94218e6a",
   "metadata": {},
   "outputs": [],
   "source": [
    "raw_datasets"
   ]
  },
  {
   "cell_type": "code",
   "execution_count": null,
   "id": "d58f79ab-2aee-4ddd-a3bf-cfa19552d7c7",
   "metadata": {},
   "outputs": [],
   "source": [
    "tokenized_datasets = raw_datasets.map(preprocess_fn, fn_kwargs={\"tokenizer\":tokenizer}, batched=True)"
   ]
  },
  {
   "cell_type": "markdown",
   "id": "7207676f-1549-41b1-ad7c-e7ee8a770ea4",
   "metadata": {},
   "source": [
    "## Define the model\n",
    "Now we can download the pretrained model and fine-tune it. Since our task is sequence-to-sequence (both the input and output are text sequences), we use the `TFAutoModelForSeq2SeqLM` class from the Hugging Face Transformers library. Like with the tokenizer, the `from_pretrained` method will download and cache the model for us.\n",
    "\n",
    "The `from_pretrained()` method expects the name of a model from the Hugging Face Model Hub. As mentioned earlier, we will use the `t5-small` model checkpoint."
   ]
  },
  {
   "cell_type": "code",
   "execution_count": null,
   "id": "76348cb5-d982-4ead-9ae0-3010860b66e6",
   "metadata": {},
   "outputs": [],
   "source": [
    "from transformers import AutoModelForSeq2SeqLM, DataCollatorForSeq2Seq\n",
    "\n",
    "model = AutoModelForSeq2SeqLM.from_pretrained(MODEL_CHECKPOINT)"
   ]
  },
  {
   "cell_type": "markdown",
   "id": "d6f98e05-b588-441d-9e1f-c8a7fe04c2cf",
   "metadata": {},
   "source": [
    "For training Sequence to Sequence models, we need a special kind of data collator, which will not only pad the inputs to the maximum length in the batch, but also the labels. Thus, we use the `DataCollatorForSeq2Seq` provided by the Hugging Face Transformers library on our dataset."
   ]
  },
  {
   "cell_type": "code",
   "execution_count": null,
   "id": "0c1b6f2c-2d0f-4f79-aa46-79a075c672a1",
   "metadata": {},
   "outputs": [],
   "source": [
    "from transformers import DataCollatorForSeq2Seq\n",
    "\n",
    "data_collator = DataCollatorForSeq2Seq(tokenizer, model=model)"
   ]
  },
  {
   "cell_type": "markdown",
   "id": "2491cf61-55ef-41d4-b9f1-2307346d3944",
   "metadata": {},
   "source": [
    "## Define evaluation metric and function\n",
    "We define a metric that we'll use during training because it will help in evaluating our model’s performance. We can quickly load a evaluation method with the `evaluate` library. For our summarization task, we load the [ROUGE](https://huggingface.co/spaces/evaluate-metric/rouge) metric."
   ]
  },
  {
   "cell_type": "code",
   "execution_count": null,
   "id": "011ae046-0b4e-4d67-bc23-37398f596b7e",
   "metadata": {},
   "outputs": [],
   "source": [
    "import evaluate\n",
    "\n",
    "rouge = evaluate.load(\"rouge\")"
   ]
  },
  {
   "cell_type": "markdown",
   "id": "65ce390b-13b9-43a2-bfd7-b89503fc237f",
   "metadata": {},
   "source": [
    "Now we define `metric_fn` which will calculate the ROUGE score between the ground-truth and predictions."
   ]
  },
  {
   "cell_type": "code",
   "execution_count": null,
   "id": "f18ac286-3d87-47b4-9a4c-a8520a19ef32",
   "metadata": {},
   "outputs": [],
   "source": [
    "import numpy as np\n",
    "\n",
    "def metric_fn(eval_pred):\n",
    "    predictions, labels = eval_pred\n",
    "    decoded_preds = tokenizer.batch_decode(predictions, skip_special_tokens=True)\n",
    "    labels = np.where(labels != -100, labels, tokenizer.pad_token_id)\n",
    "    decoded_labels = tokenizer.batch_decode(labels, skip_special_tokens=True)\n",
    "\n",
    "    result = rouge.compute(predictions=decoded_preds, references=decoded_labels, use_stemmer=True)\n",
    "\n",
    "    prediction_lens = [np.count_nonzero(pred != tokenizer.pad_token_id) for pred in predictions]\n",
    "    result[\"gen_len\"] = np.mean(prediction_lens)\n",
    "\n",
    "    return {k: round(v, 4) for k, v in result.items()}"
   ]
  },
  {
   "cell_type": "markdown",
   "id": "679716ad-a8c8-4d1a-a8b3-53e85a37edf7",
   "metadata": {},
   "source": [
    "## Train the model\n",
    "\n",
    "We will use [``Seq2SeqTrainer``](https://huggingface.co/docs/transformers/main/en/main_classes/trainer#transformers.Seq2SeqTrainer), a ``Trainer`` class from the Transformers library that can be used for sequence-to-sequence tasks such as translation or summarization.\n",
    "\n",
    "To train the model we:\n",
    "\n",
    "1. Define our training hyperparameters in `Seq2SeqTrainingArguments`. The only required parameter is `output_dir` which specifies where to save our model. At the end of each epoch, the `Trainer` will evaluate the ROUGE metric and save the training checkpoint. We set `push_to_hub` to True so we can later upload the model to the Hugging Face hub.\n",
    "2. Pass the training arguments to `Seq2SeqTrainer` along with the model, dataset, tokenizer, data collator, and compute_metrics function.\n",
    "3. Call `train()` to finetune our model."
   ]
  },
  {
   "cell_type": "code",
   "execution_count": null,
   "id": "d4a2f2b7-d822-481a-bee2-6cfcbb0da134",
   "metadata": {},
   "outputs": [],
   "source": [
    "from transformers import AutoModelForSeq2SeqLM, Seq2SeqTrainingArguments, Seq2SeqTrainer\n",
    "\n",
    "training_args = Seq2SeqTrainingArguments(\n",
    "    output_dir=MODEL_PATH,\n",
    "    evaluation_strategy=\"epoch\",\n",
    "    learning_rate=2e-5,\n",
    "    per_device_train_batch_size=16,\n",
    "    per_device_eval_batch_size=16,\n",
    "    weight_decay=0.01,\n",
    "    save_total_limit=3,\n",
    "    num_train_epochs=4,\n",
    "    predict_with_generate=True,\n",
    "    fp16=True,\n",
    "    push_to_hub=True,\n",
    ")\n",
    "\n",
    "trainer = Seq2SeqTrainer(\n",
    "    model=model,\n",
    "    args=training_args,\n",
    "    train_dataset=tokenized_datasets[\"train\"],\n",
    "    eval_dataset=tokenized_datasets[\"test\"],\n",
    "    tokenizer=tokenizer,\n",
    "    data_collator=data_collator,\n",
    "    compute_metrics=metric_fn,\n",
    ")"
   ]
  },
  {
   "cell_type": "code",
   "execution_count": null,
   "id": "ef382aee-906b-4384-b277-a0501e861274",
   "metadata": {},
   "outputs": [],
   "source": [
    "trainer.train()"
   ]
  },
  {
   "cell_type": "markdown",
   "id": "270612a9-2707-446f-8d2f-904013f3506e",
   "metadata": {},
   "source": [
    "## Save the model"
   ]
  },
  {
   "cell_type": "markdown",
   "id": "096893e5-8b1d-444b-b035-00da922b9528",
   "metadata": {},
   "source": [
    "First we save the model, locally, for future use:"
   ]
  },
  {
   "cell_type": "code",
   "execution_count": null,
   "id": "331a8d3f-22b3-43a2-9aef-44b8be654741",
   "metadata": {},
   "outputs": [],
   "source": [
    "trainer.save_model(MODEL_PATH)"
   ]
  },
  {
   "cell_type": "markdown",
   "id": "a3814e2d-7802-4d09-9790-df133fcf05e6",
   "metadata": {},
   "source": [
    "Now, we can also upload it (push it) to the Hugging Face Hub, so we can share it and get version control on it. Since Hugging Face model repos are just Git repositories, we could use Git to push our model files to the Hub. Follow the guide on [Getting Started with Repositories](https://huggingface.co/docs/hub/repositories-getting-started) to learn about using the git CLI to commit and push your models. Here we will use the `huggingface_hub` client library to upload our model to the Hub. The rich feature set in the `huggingface_hub` library allows you to manage repositories, including creating repos and uploading models to the Model Hub. Visit the client library’s documentation to learn more. We'll need a Hugging Face API token (either stored in the cache or copied and pasted in our notebook). You can find in the [Hugging Face documentation](https://huggingface.co/docs/transformers/v4.14.1/model_sharing) how to obtain it."
   ]
  },
  {
   "cell_type": "code",
   "execution_count": null,
   "id": "a12f7293-69d9-4131-a4f9-1ca44d724a66",
   "metadata": {},
   "outputs": [],
   "source": [
    "from huggingface_hub import login\n",
    "\n",
    "login()"
   ]
  },
  {
   "cell_type": "code",
   "execution_count": null,
   "id": "d6649b71-954c-4c02-b17e-b5f36d1a4b6f",
   "metadata": {},
   "outputs": [],
   "source": [
    "trainer.push_to_hub(REPO_NAME)"
   ]
  },
  {
   "cell_type": "markdown",
   "id": "43d437af-3980-4613-82f2-b674bbaa084a",
   "metadata": {},
   "source": [
    "## Inference\n",
    "\n",
    "Once our model is finetuned, we can use it for inference. We'll show here an example, with the following text (extracted from the [Airlines Are Just Banks Now](https://www.theatlantic.com/ideas/archive/2023/09/airlines-banks-mileage-programs/675374/) article by Ganesh Sitaraman, published in The Atlantic on September 21, as input."
   ]
  },
  {
   "cell_type": "code",
   "execution_count": null,
   "id": "cc28b9f4-f82e-434f-a2fe-a501ad0ce12b",
   "metadata": {},
   "outputs": [],
   "source": [
    "input_file = INPUT_FILE\n",
    "with open(input_file, 'r') as file:\n",
    "    input = file.read().replace('\\n', '')"
   ]
  },
  {
   "cell_type": "markdown",
   "id": "ca22fe81-fc49-4a69-b5a6-423c3589223a",
   "metadata": {},
   "source": [
    "We add the prefix required by T5 for summarization:"
   ]
  },
  {
   "cell_type": "code",
   "execution_count": null,
   "id": "c5cf045a-2791-4802-885b-5fc7407a9dfa",
   "metadata": {},
   "outputs": [],
   "source": [
    "pref_input = PREFIX + input"
   ]
  },
  {
   "cell_type": "markdown",
   "id": "b136f3f2-6058-4db9-be98-48e3486a2c87",
   "metadata": {},
   "source": [
    "The simplest way to try out our finetuned model for inference is to use it in a ``pipeline()``. We instantiate a pipeline for summarization with our model, and pass our input text to it:"
   ]
  },
  {
   "cell_type": "code",
   "execution_count": null,
   "id": "9f7fbcac-84e8-4797-9ee9-2ca218745ba2",
   "metadata": {},
   "outputs": [],
   "source": [
    "from transformers import pipeline\n",
    "\n",
    "summarizer = pipeline(\"summarization\", model=REPO_NAME)\n",
    "summarizer(pref_input)"
   ]
  },
  {
   "cell_type": "code",
   "execution_count": null,
   "id": "44af62f1-bf92-4af3-bb04-44ad6f15a0f5",
   "metadata": {},
   "outputs": [],
   "source": []
  }
 ],
 "metadata": {
  "kernelspec": {
   "display_name": "Python 3 (ipykernel)",
   "language": "python",
   "name": "python3"
  },
  "language_info": {
   "codemirror_mode": {
    "name": "ipython",
    "version": 3
   },
   "file_extension": ".py",
   "mimetype": "text/x-python",
   "name": "python",
   "nbconvert_exporter": "python",
   "pygments_lexer": "ipython3",
   "version": "3.9.16"
  }
 },
 "nbformat": 4,
 "nbformat_minor": 5
}
