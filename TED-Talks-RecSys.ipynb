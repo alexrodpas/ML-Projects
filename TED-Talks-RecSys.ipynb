{
 "cells": [
  {
   "cell_type": "markdown",
   "metadata": {},
   "source": [
    "# TED Talks Recommender System\n",
    "\n",
    "In this notebook, we will build a very basic content-based Machine Learning recommender system that can recommend TED talks based on the topics of your interest."
   ]
  },
  {
   "cell_type": "markdown",
   "metadata": {},
   "source": [
    "## Content Based Recommender Systems\n",
    "\n",
    "A Content-Based Recommender works by the data that we take from the user, either explicitly (rating) or implicitly (clicking on a link). \n",
    "From the data we create a user profile, which is then used to suggest content to the user; as the user provides more input or takes more actions on the recommendation, the engine becomes more accurate.\n",
    "\n",
    "![Content-Based Recommender System](imgs/cbrs.png)"
   ]
  },
  {
   "cell_type": "markdown",
   "metadata": {},
   "source": [
    "*User Profile:*\n",
    "In the User Profile, we create vectors that describe the user’s preference. \n",
    "In the creation of a user profile, we use the utility matrix which describes the relationship between user and item. \n",
    "With this information, the best estimate we can make regarding which item user likes, is some aggregation of the profiles of those items.\n",
    "\n",
    "*Item Profile:*\n",
    "In Content-Based Recommender, we must build a profile for each item, which will represent the important characteristics of that item.\n",
    "For example, if we make a movie as an item then its actors, director, release year and genre are the most significant features of the movie. \n",
    "We can also add its rating from the IMDB (Internet Movie Database) in the Item Profile.\n",
    "\n",
    "*Utility Matrix:*\n",
    "Utility Matrix signifies the user's preference with certain items. \n",
    "In the data gathered from the user, we have to find some relation between the items which are liked by the user and those which are disliked, for this purpose we use the utility matrix. \n",
    "In it we assign a particular value to each user-item pair, this value is known as the degree of preference. \n",
    "Then we draw a matrix of a user with the respective items to identify their preference relationship."
   ]
  },
  {
   "cell_type": "markdown",
   "metadata": {},
   "source": [
    "![Utility Matrix](imgs/umatrix.png)"
   ]
  },
  {
   "cell_type": "markdown",
   "metadata": {},
   "source": [
    "Some of the columns are blank in the matrix that is because we don't get the whole input from the user every time, and the goal of a recommendation system is not to fill all the columns but to recommend a movie to the user which he/she will prefer. \n",
    "Through this table, our recommender system won't suggest Movie 3 to User 2, because in Movie 1 they have given approximately the same ratings, and in Movie 3 User 1 has given the low rating, so it is highly possible that User 2 also won't like it."
   ]
  },
  {
   "cell_type": "markdown",
   "metadata": {},
   "source": [
    "## Recommending Items to User Based on Content:\n",
    "\n",
    "- Method 1:\n",
    "    We can use the cosine distance between the vectors of the item and the user to determine its preference to the user. Let us consider an example:\n",
    "    We observe that the vector for a user will have a positive number for actors that tend to appear in movies the user likes and negative numbers for actors user doesn’t like, Consider a movie with actors which user likes and only a few actors which user doesn’t like, then the cosine angle between the user’s and movie’s vectors will be a large positive fraction. Thus, the angle will be close to 0, therefore a small cosine distance between the vectors.\n",
    "    It represents that the user tends to like the movie, if the cosine distance is large, then we tend to avoid the item from the recommendation.\n",
    "- Method 2:\n",
    "    We can use a classification approach in the recommendation systems too, e.g. we can use a Decision Tree for finding out whether a user wants to watch a movie or not.\n",
    "    With this approach, at each level we can apply a certain condition to refine our recommendation. For example:\n",
    "    ![Method_2](imgs/method2.png)"
   ]
  },
  {
   "cell_type": "markdown",
   "metadata": {},
   "source": [
    "# Import Libraries & Dataset\n",
    "\n",
    "We will use the following Python Libraries:\n",
    "\n",
    "1. [Pandas](https://pandas.pydata.org/): This library helps to load the data frame in a 2D array format and has multiple functions to perform analysis tasks in one go.\n",
    "2. [Numpy](https://numpy.org/): Numpy arrays are very fast and can perform large computations in a very short time.\n",
    "3. [matplotlib](https://matplotlib.org/) / [Wordcloud](https://pypi.org/project/wordcloud/): These libraries are used to draw visualizations.\n",
    "4. [nltk](https://www.nltk.org/): This NLP library is used to perform text processing on the raw text data.\n"
   ]
  },
  {
   "cell_type": "code",
   "execution_count": null,
   "metadata": {},
   "outputs": [],
   "source": [
    "%%capture\n",
    "import numpy as np\n",
    "import pandas as pd\n",
    "import matplotlib.pyplot as plt\n",
    "\n",
    "import nltk\n",
    "import string\n",
    "import warnings\n",
    "from scipy.stats import pearsonr\n",
    "from nltk.corpus import stopwords\n",
    "from wordcloud import WordCloud\n",
    "from sklearn.feature_extraction.text import TfidfVectorizer\n",
    "from sklearn.metrics.pairwise import cosine_similarity\n",
    "\n",
    "nltk.download('stopwords')\n",
    "warnings.filterwarnings('ignore')"
   ]
  }
 ],
 "metadata": {
  "language_info": {
   "name": "python"
  }
 },
 "nbformat": 4,
 "nbformat_minor": 2
}
